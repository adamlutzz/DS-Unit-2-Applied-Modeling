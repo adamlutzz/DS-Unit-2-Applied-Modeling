{
  "nbformat": 4,
  "nbformat_minor": 0,
  "metadata": {
    "colab": {
      "name": "Fatal Police Encounters.ipynb",
      "provenance": [],
      "include_colab_link": true
    },
    "kernelspec": {
      "name": "python3",
      "display_name": "Python 3"
    }
  },
  "cells": [
    {
      "cell_type": "markdown",
      "metadata": {
        "id": "view-in-github",
        "colab_type": "text"
      },
      "source": [
        "<a href=\"https://colab.research.google.com/github/adamlutzz/DS-Unit-2-Applied-Modeling/blob/master/Fatal_Police_Encounters.ipynb\" target=\"_parent\"><img src=\"https://colab.research.google.com/assets/colab-badge.svg\" alt=\"Open In Colab\"/></a>"
      ]
    },
    {
      "cell_type": "markdown",
      "metadata": {
        "id": "r1vltmbM49Yg",
        "colab_type": "text"
      },
      "source": [
        "# Fatal Police Shootings\n",
        "\n",
        "**Race:**\n",
        "\n",
        "*  W: White, non-Hispanic\n",
        "*  B: Black, non-Hispanic\n",
        "*  A: Asian\n",
        "*  L: Latino\n",
        "*  O: Other\n",
        "*  U: Unknown<br/>\n",
        "\n",
        "**Gender:**\n",
        "\n",
        "*  M: Male\n",
        "*  F: Female\n",
        "*  U: Unknown"
      ]
    },
    {
      "cell_type": "markdown",
      "metadata": {
        "id": "M7c7EO1R5ES9",
        "colab_type": "text"
      },
      "source": [
        "Possible Features to Engineer\n",
        "*  Minority? (non white)"
      ]
    },
    {
      "cell_type": "markdown",
      "metadata": {
        "id": "qgmo-FdJ5IY9",
        "colab_type": "text"
      },
      "source": [
        "### Installations"
      ]
    },
    {
      "cell_type": "code",
      "metadata": {
        "id": "044c6HkP5Dw1",
        "colab_type": "code",
        "colab": {}
      },
      "source": [
        "import os, sys\n",
        "in_colab = 'google.colab' in sys.modules\n",
        "\n",
        "# If you're in Colab...\n",
        "if in_colab:\n",
        "\n",
        "    # Install required python packages\n",
        "    !pip install -r 'https://raw.githubusercontent.com/LambdaSchool/DS-Unit-2-Kaggle-Challenge/master/requirements.txt'"
      ],
      "execution_count": 0,
      "outputs": []
    },
    {
      "cell_type": "markdown",
      "metadata": {
        "id": "Yg1L3U8L5MRe",
        "colab_type": "text"
      },
      "source": [
        "### Pre-processing"
      ]
    },
    {
      "cell_type": "code",
      "metadata": {
        "id": "yIxuseOi5GrV",
        "colab_type": "code",
        "colab": {}
      },
      "source": [
        "import category_encoders as ce\n",
        "import matplotlib.pyplot as plt\n",
        "import numpy as np\n",
        "import pandas as pd\n",
        "from sklearn.ensemble import RandomForestClassifier\n",
        "from sklearn.metrics import accuracy_score\n",
        "from sklearn.metrics import accuracy_score\n",
        "from sklearn.pipeline import make_pipeline\n",
        "\n",
        "# link from vice github\n",
        "link = 'https://raw.githubusercontent.com/vicenews/shot-by-cops/master/subject_data.csv'\n",
        "\n",
        "# read in \n",
        "df = pd.read_csv(link)\n",
        "\n",
        "# check df shape\n",
        "print(df.shape)\n",
        "\n",
        "# first look at df\n",
        "df.head()"
      ],
      "execution_count": 0,
      "outputs": []
    },
    {
      "cell_type": "code",
      "metadata": {
        "id": "Nkw6O_GC5Pfd",
        "colab_type": "code",
        "colab": {}
      },
      "source": [
        "# target category is 'Fatal'\n",
        "target = 'Fatal'"
      ],
      "execution_count": 0,
      "outputs": []
    },
    {
      "cell_type": "code",
      "metadata": {
        "id": "MKejfaQs5Wql",
        "colab_type": "code",
        "colab": {}
      },
      "source": [
        "# lets see how balanced our class is\n",
        "print(df[target].value_counts())\n",
        "df[target].value_counts(normalize=True)"
      ],
      "execution_count": 0,
      "outputs": []
    },
    {
      "cell_type": "markdown",
      "metadata": {
        "id": "gUhRlnlo5Z2-",
        "colab_type": "text"
      },
      "source": [
        "It looks like I will need to clean these up. However there are likely 3 classes<br/>\n",
        "N - non-fatal<br/>\n",
        "F - Fatal<br/>\n",
        "U - Unknown<br/>"
      ]
    },
    {
      "cell_type": "code",
      "metadata": {
        "id": "iZEnIoG85X2O",
        "colab_type": "code",
        "colab": {}
      },
      "source": [
        "# remove space\n",
        "df['Fatal'] = df[target].str.strip()\n",
        "\n",
        "# repeat step to check work\n",
        "print(df[target].value_counts())\n",
        "df[target].value_counts(normalize=True)"
      ],
      "execution_count": 0,
      "outputs": []
    },
    {
      "cell_type": "code",
      "metadata": {
        "id": "ks6KCKoR5apV",
        "colab_type": "code",
        "colab": {}
      },
      "source": [
        "# visualize\n",
        "df[target].value_counts().plot(kind='bar')\n",
        "plt.title('Police Shootings')\n",
        "plt.show()"
      ],
      "execution_count": 0,
      "outputs": []
    },
    {
      "cell_type": "markdown",
      "metadata": {
        "id": "WmKMTiBh5p2-",
        "colab_type": "text"
      },
      "source": [
        "### Calculate Baseline"
      ]
    },
    {
      "cell_type": "code",
      "metadata": {
        "id": "en2lRqz-5esN",
        "colab_type": "code",
        "colab": {}
      },
      "source": [
        "from sklearn.model_selection import train_test_split\n",
        "\n",
        "# do a train test split\n",
        "train, test = train_test_split(df, test_size=.2, random_state=11)\n",
        "\n",
        "train.shape, test.shape"
      ],
      "execution_count": 0,
      "outputs": []
    },
    {
      "cell_type": "code",
      "metadata": {
        "id": "wT6QjvPX5f_t",
        "colab_type": "code",
        "colab": {}
      },
      "source": [
        "# split again for validation\n",
        "train, val = train_test_split(train, test_size=.2, random_state=11)\n",
        "\n",
        "train.shape, val.shape"
      ],
      "execution_count": 0,
      "outputs": []
    },
    {
      "cell_type": "code",
      "metadata": {
        "id": "SIHw9E715ja9",
        "colab_type": "code",
        "colab": {}
      },
      "source": [
        "# divide into X features matrix and y target vector\n",
        "X_train = train.drop(columns=target)\n",
        "X_val = val.drop(columns=target)\n",
        "X_test = test.drop(columns=target)\n",
        "\n",
        "# y target vector\n",
        "y_train = train[target]\n",
        "y_val = val[target]\n",
        "y_test = test[target]\n",
        "\n",
        "# verify shape\n",
        "X_train.shape, y_train.shape"
      ],
      "execution_count": 0,
      "outputs": []
    },
    {
      "cell_type": "code",
      "metadata": {
        "id": "HZSQyQaN5n9V",
        "colab_type": "code",
        "colab": {}
      },
      "source": [
        "from sklearn.impute import SimpleImputer\n",
        "\n",
        "# create quick baseline model\n",
        "base_RF = make_pipeline(\n",
        "    ce.OrdinalEncoder(),\n",
        "    SimpleImputer(strategy='mean'),\n",
        "    RandomForestClassifier(n_jobs=-1, random_state=11)\n",
        ")\n",
        "# Fit on train, score on val\n",
        "base_RF.fit(X_train, y_train)\n",
        "y_pred = base_RF.predict(X_val)\n",
        "print('Validation Accuracy', accuracy_score(y_val, y_pred))"
      ],
      "execution_count": 0,
      "outputs": []
    },
    {
      "cell_type": "markdown",
      "metadata": {
        "id": "SN9Yl22651BO",
        "colab_type": "text"
      },
      "source": [
        "### Pandas Profiling Report"
      ]
    },
    {
      "cell_type": "code",
      "metadata": {
        "id": "f31fv1iL50ee",
        "colab_type": "code",
        "colab": {}
      },
      "source": [
        "import pandas_profiling\n",
        "\n",
        "df.profile_report()"
      ],
      "execution_count": 0,
      "outputs": []
    },
    {
      "cell_type": "markdown",
      "metadata": {
        "id": "exVG6sCN56Y-",
        "colab_type": "text"
      },
      "source": [
        "### Feature Exploration"
      ]
    },
    {
      "cell_type": "code",
      "metadata": {
        "id": "zHCfD_iE56n2",
        "colab_type": "code",
        "colab": {}
      },
      "source": [
        "# This is explained above, but I wanted a quick reference\n",
        "df.dtypes"
      ],
      "execution_count": 0,
      "outputs": []
    },
    {
      "cell_type": "markdown",
      "metadata": {
        "id": "4ZTVCGbB6AW-",
        "colab_type": "text"
      },
      "source": [
        "**To-Do's**\n",
        "\n",
        "\n",
        "*   Change date to datetime format\n",
        "*   Split features into ordnial and nominal\n",
        "*   Figure out how to best impute NA's\n",
        "*   Identify High Cardinality features and investigate binning\n",
        "*   Clean up number of shots (should be int) try using bins\n",
        "*   Drop 'NumberofSubjects' - it is a constant\n",
        "*   SubjectAge into bins 10-19 etc.\n",
        "*   IsMale new feature counts how many male officers involved\n",
        "*   IsFemale new feature counting how many female officers involved\n",
        "*   IsUknown for unknown Gender\n",
        "*   Bin top 10 nature of stops?\n",
        "*   Make a feature for each officer race and count how many\n",
        "*   Group observations that only have year and no day\n",
        "*   Make Dictionary for all classes in low-cardinality features\n",
        "\n",
        "\n"
      ]
    },
    {
      "cell_type": "code",
      "metadata": {
        "id": "064E6bnE593O",
        "colab_type": "code",
        "colab": {}
      },
      "source": [
        "# in the profile report there were 5 unique values including NA so lets check it out\n",
        "df['SubjectArmed'].value_counts()\n",
        "\n",
        "# looks like extra spaces will need to be removed"
      ],
      "execution_count": 0,
      "outputs": []
    },
    {
      "cell_type": "code",
      "metadata": {
        "id": "V1K_PQws6eiW",
        "colab_type": "code",
        "colab": {}
      },
      "source": [
        "# figure out number of shots (binning)"
      ],
      "execution_count": 0,
      "outputs": []
    },
    {
      "cell_type": "code",
      "metadata": {
        "id": "tIqjRvwo641e",
        "colab_type": "code",
        "colab": {}
      },
      "source": [
        "# convert date to datetime"
      ],
      "execution_count": 0,
      "outputs": []
    },
    {
      "cell_type": "code",
      "metadata": {
        "id": "nHQwAei1sk7P",
        "colab_type": "code",
        "colab": {}
      },
      "source": [
        "# declare list of columns you want to edit\n",
        "wrangle_col = ['SubjectAge', 'OfficerGender',\n",
        "                'OfficerRace', 'SubjectGender',\n",
        "                'SubjectRace']\n",
        "\n",
        "# create dictionary of bad characters\n",
        "bad_chars = {'/':'', ':':';', ' ':'', 'H':'L', }\n",
        "\n",
        "# remove space\n",
        "def wrangle(df):\n",
        "  \n",
        "  df = df.copy()\n",
        "\n",
        "  # strip out leading and trailing spaces\n",
        "  for col in df.columns:\n",
        "    df[col] = df[col].str.strip()\n",
        "\n",
        "  # replace un-uniform characters\n",
        "  for col in df[wrangle_col]:\n",
        "    for char in bad_char:\n",
        "    df[col] = df[col].str.replace('/', '')\n",
        "    df[col] = df[col].str.replace(':', ';')\n",
        "    df[col] = df[col].str.replace(' ', '')\n",
        "    df[col] = df[col].str.replace('H', 'L')\n",
        "    df[col] = df[col].str.replace('OtLer', 'Other')\n",
        "    df[col] = df[col].str.replace('WLITE', 'WHITE')\n",
        "  \n",
        "  return df"
      ],
      "execution_count": 0,
      "outputs": []
    },
    {
      "cell_type": "code",
      "metadata": {
        "id": "DCoDJvDU7ZiG",
        "colab_type": "code",
        "colab": {}
      },
      "source": [
        "# def encoding function"
      ],
      "execution_count": 0,
      "outputs": []
    },
    {
      "cell_type": "code",
      "metadata": {
        "id": "jAKKZ5517JQ_",
        "colab_type": "code",
        "colab": {}
      },
      "source": [
        "# def pre-processing function"
      ],
      "execution_count": 0,
      "outputs": []
    },
    {
      "cell_type": "code",
      "metadata": {
        "id": "5dnnNvnA7Gfr",
        "colab_type": "code",
        "colab": {}
      },
      "source": [
        "# re-run model"
      ],
      "execution_count": 0,
      "outputs": []
    },
    {
      "cell_type": "markdown",
      "metadata": {
        "id": "6qZAMP6L7PUm",
        "colab_type": "text"
      },
      "source": [
        "### Feature Engineering"
      ]
    },
    {
      "cell_type": "code",
      "metadata": {
        "id": "28qmRfPV7OGn",
        "colab_type": "code",
        "colab": {}
      },
      "source": [
        "# make minority feature"
      ],
      "execution_count": 0,
      "outputs": []
    }
  ]
}